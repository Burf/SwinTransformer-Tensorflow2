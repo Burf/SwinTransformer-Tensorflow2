{
 "cells": [
  {
   "cell_type": "code",
   "execution_count": 1,
   "metadata": {
    "colab": {
     "base_uri": "https://localhost:8080/"
    },
    "executionInfo": {
     "elapsed": 11453,
     "status": "ok",
     "timestamp": 1646225732729,
     "user": {
      "displayName": "김형진",
      "photoUrl": "https://lh3.googleusercontent.com/a/default-user=s64",
      "userId": "05530574334109307920"
     },
     "user_tz": -540
    },
    "id": "TAtrzndb7Vun",
    "outputId": "8186766f-d969-4bb4-8b8f-f8d3f8bc3af6"
   },
   "outputs": [
    {
     "name": "stdout",
     "output_type": "stream",
     "text": [
      "Downloading data from https://www.cs.toronto.edu/~kriz/cifar-10-python.tar.gz\n",
      "170500096/170498071 [==============================] - 2s 0us/step\n",
      "170508288/170498071 [==============================] - 2s 0us/step\n"
     ]
    }
   ],
   "source": [
    "import tensorflow as tf\n",
    "\n",
    "import ssl\n",
    "ssl._create_default_https_context = ssl._create_unverified_context\n",
    "\n",
    "def preprocess(image, y_true = None):\n",
    "    #image = tf.image.resize([image], (224, 224), tf.image.ResizeMethod.BICUBIC)[0]\n",
    "    image = tf.image.resize([image], (256, 256), tf.image.ResizeMethod.BICUBIC)[0]\n",
    "    result = image\n",
    "    if y_true is not None:\n",
    "        result = image, y_true\n",
    "    return result\n",
    "\n",
    "def pipe(data, batch_size = 16, shuffle = False):\n",
    "    dataset = tf.data.Dataset.from_tensor_slices(data)\n",
    "    dataset = dataset.map(preprocess, num_parallel_calls = tf.data.experimental.AUTOTUNE)\n",
    "    if shuffle:\n",
    "        dataset = dataset.shuffle(buffer_size = batch_size * 10)\n",
    "    dataset = dataset.batch(batch_size)\n",
    "    #dataset = dataset.prefetch((batch_size * 2) + 1)\n",
    "    dataset = dataset.prefetch(tf.data.experimental.AUTOTUNE)\n",
    "    return dataset\n",
    "\n",
    "(tr_x, tr_y), (te_x, te_y) = tf.keras.datasets.cifar10.load_data()\n",
    "\n",
    "tr_x = tr_x * 1/255\n",
    "te_x = te_x * 1/255\n",
    "\n",
    "batch_size = 16\n",
    "\n",
    "tr_data = pipe((tr_x[:1000], tr_y[:1000]), batch_size = batch_size, shuffle = True)\n",
    "te_data = pipe((te_x[:1000], te_y[:1000]), batch_size = batch_size, shuffle = False)"
   ]
  },
  {
   "cell_type": "code",
   "execution_count": 2,
   "metadata": {
    "colab": {
     "base_uri": "https://localhost:8080/",
     "height": 67,
     "referenced_widgets": [
      "15370eedaea14994b389bbb8db8de057",
      "f97bc85d22f04f4f934adc128b50c80d",
      "8b22834e82474c93a74e880f3de33128",
      "9bc0d9da4e774451820081befdeac158",
      "0c5e7c06d6dd414ab0ab84a577c98b0e",
      "b72e4e5f4a3d44f0810aeb32d2097204",
      "bf8b36d1c8144e798b3cecbcf0d10276",
      "faecd5b9916943abb0cdfc2b69dc1b65",
      "75b2329c5f3940d89d59c44671e6666b",
      "0ae7e638373549f9a047ce7c8bc8ab87",
      "f8ac738ff39d4f4ea79f05308972a768"
     ]
    },
    "executionInfo": {
     "elapsed": 22132,
     "status": "ok",
     "timestamp": 1646225754827,
     "user": {
      "displayName": "김형진",
      "photoUrl": "https://lh3.googleusercontent.com/a/default-user=s64",
      "userId": "05530574334109307920"
     },
     "user_tz": -540
    },
    "id": "ySaeM_5H7Q8A",
    "outputId": "b12c3ac0-7241-4bc2-8a2e-918d4869366d"
   },
   "outputs": [
    {
     "name": "stderr",
     "output_type": "stream",
     "text": [
      "Downloading: \"https://github.com/SwinTransformer/storage/releases/download/v1.0.0/swin_tiny_patch4_window7_224.pth\" to /root/.cache/torch/hub/checkpoints/swin_tiny_patch4_window7_224.pth\n"
     ]
    },
    {
     "data": {
      "application/vnd.jupyter.widget-view+json": {
       "model_id": "15370eedaea14994b389bbb8db8de057",
       "version_major": 2,
       "version_minor": 0
      },
      "text/plain": [
       "  0%|          | 0.00/109M [00:00<?, ?B/s]"
      ]
     },
     "metadata": {},
     "output_type": "display_data"
    }
   ],
   "source": [
    "import swin_transformer\n",
    "\n",
    "#model = swin_transformer.swin_transformer_tiny_224_w7_1k(input_shape = (224, 224, 3), include_top = False, weights = \"imagenet\")\n",
    "model = swin_transformer.swin_transformer_v2_tiny_256_w8_1k(input_shape = (256, 256, 3), include_top = False, weights = \"imagenet\")\n",
    "\n",
    "#feature = tf.keras.layers.Reshape([7, 7, -1])(model.output)\n",
    "feature = tf.keras.layers.Reshape([8, 8, -1])(model.output)\n",
    "flatten = tf.keras.layers.GlobalAveragePooling2D()(feature)\n",
    "drop_out = tf.keras.layers.Dropout(0.5)(flatten)\n",
    "dense = tf.keras.layers.Dense(2048, activation = \"relu\")(drop_out)\n",
    "prediction = tf.keras.layers.Dense(10, activation = \"softmax\", name = \"prediction\")(dense)\n",
    "model = tf.keras.Model(model.input, prediction)"
   ]
  },
  {
   "cell_type": "code",
   "execution_count": 3,
   "metadata": {
    "executionInfo": {
     "elapsed": 18,
     "status": "ok",
     "timestamp": 1646225754832,
     "user": {
      "displayName": "김형진",
      "photoUrl": "https://lh3.googleusercontent.com/a/default-user=s64",
      "userId": "05530574334109307920"
     },
     "user_tz": -540
    },
    "id": "cka3vwta8pmU"
   },
   "outputs": [],
   "source": [
    "loss = tf.keras.losses.sparse_categorical_crossentropy\n",
    "opt = tf.keras.optimizers.Adam(1e-4)\n",
    "metric = [tf.keras.metrics.sparse_categorical_accuracy]\n",
    "model.compile(loss = loss, optimizer = opt, metrics = metric)"
   ]
  },
  {
   "cell_type": "code",
   "execution_count": 4,
   "metadata": {
    "colab": {
     "base_uri": "https://localhost:8080/"
    },
    "executionInfo": {
     "elapsed": 106941,
     "status": "ok",
     "timestamp": 1646225861758,
     "user": {
      "displayName": "김형진",
      "photoUrl": "https://lh3.googleusercontent.com/a/default-user=s64",
      "userId": "05530574334109307920"
     },
     "user_tz": -540
    },
    "id": "S2T8gk6z9iBH",
    "outputId": "9f701a97-2517-4335-fd40-9d0167a708cc"
   },
   "outputs": [
    {
     "name": "stdout",
     "output_type": "stream",
     "text": [
      "63/63 [==============================] - 103s 1s/step - loss: 1.2412 - sparse_categorical_accuracy: 0.5890 - val_loss: 0.5949 - val_sparse_categorical_accuracy: 0.7940\n"
     ]
    },
    {
     "data": {
      "text/plain": [
       "<keras.callbacks.History at 0x7f7e79217e90>"
      ]
     },
     "execution_count": 4,
     "metadata": {},
     "output_type": "execute_result"
    }
   ],
   "source": [
    "model.fit(tr_data, validation_data = te_data, epochs = 1)"
   ]
  },
  {
   "cell_type": "code",
   "execution_count": 5,
   "metadata": {
    "executionInfo": {
     "elapsed": 388,
     "status": "ok",
     "timestamp": 1646225862111,
     "user": {
      "displayName": "김형진",
      "photoUrl": "https://lh3.googleusercontent.com/a/default-user=s64",
      "userId": "05530574334109307920"
     },
     "user_tz": -540
    },
    "id": "zOT6EKn7r1fg"
   },
   "outputs": [],
   "source": [
    "model.save_weights(\"model.h5\")"
   ]
  },
  {
   "cell_type": "code",
   "execution_count": 6,
   "metadata": {
    "executionInfo": {
     "elapsed": 3341,
     "status": "ok",
     "timestamp": 1646225865448,
     "user": {
      "displayName": "김형진",
      "photoUrl": "https://lh3.googleusercontent.com/a/default-user=s64",
      "userId": "05530574334109307920"
     },
     "user_tz": -540
    },
    "id": "bj6TFdHfr3EL"
   },
   "outputs": [],
   "source": [
    "#model = swin_transformer.swin_transformer_tiny_224_w7_1k(input_shape = (224, 224, 3), include_top = False, weights = \"imagenet\")\n",
    "model = swin_transformer.swin_transformer_v2_tiny_256_w8_1k(input_shape = (256, 256, 3), include_top = False, weights = \"imagenet\")\n",
    "\n",
    "#feature = tf.keras.layers.Reshape([7, 7, -1])(model.output)\n",
    "feature = tf.keras.layers.Reshape([8, 8, -1])(model.output)\n",
    "flatten = tf.keras.layers.GlobalAveragePooling2D()(feature)\n",
    "drop_out = tf.keras.layers.Dropout(0.5)(flatten)\n",
    "dense = tf.keras.layers.Dense(2048, activation = \"relu\")(drop_out)\n",
    "prediction = tf.keras.layers.Dense(10, activation = \"softmax\", name = \"prediction\")(dense)\n",
    "model = tf.keras.Model(model.input, prediction)\n",
    "\n",
    "model.load_weights(\"model.h5\")"
   ]
  },
  {
   "cell_type": "code",
   "execution_count": 7,
   "metadata": {
    "colab": {
     "base_uri": "https://localhost:8080/"
    },
    "executionInfo": {
     "elapsed": 27168,
     "status": "ok",
     "timestamp": 1646225892580,
     "user": {
      "displayName": "김형진",
      "photoUrl": "https://lh3.googleusercontent.com/a/default-user=s64",
      "userId": "05530574334109307920"
     },
     "user_tz": -540
    },
    "id": "_unmO-L-r4sH",
    "outputId": "cefa7f84-d3bc-4139-bd71-4307cf7f71aa"
   },
   "outputs": [
    {
     "name": "stdout",
     "output_type": "stream",
     "text": [
      "63/63 [==============================] - 24s 278ms/step - loss: 0.6012 - sparse_categorical_accuracy: 0.7980\n"
     ]
    },
    {
     "data": {
      "text/plain": [
       "[0.6011554598808289, 0.7979999780654907]"
      ]
     },
     "execution_count": 7,
     "metadata": {},
     "output_type": "execute_result"
    }
   ],
   "source": [
    "loss = tf.keras.losses.sparse_categorical_crossentropy\n",
    "metric = [tf.keras.metrics.sparse_categorical_accuracy]\n",
    "model.compile(loss = loss, metrics = metric)\n",
    "model.evaluate(te_data)"
   ]
  },
  {
   "cell_type": "code",
   "execution_count": null,
   "metadata": {
    "id": "ZrecdF5SsMD9"
   },
   "outputs": [],
   "source": []
  }
 ],
 "metadata": {
  "accelerator": "GPU",
  "colab": {
   "collapsed_sections": [],
   "name": "usage.ipynb",
   "provenance": []
  },
  "kernelspec": {
   "display_name": "Python 3",
   "language": "python",
   "name": "python3"
  },
  "language_info": {
   "codemirror_mode": {
    "name": "ipython",
    "version": 3
   },
   "file_extension": ".py",
   "mimetype": "text/x-python",
   "name": "python",
   "nbconvert_exporter": "python",
   "pygments_lexer": "ipython3",
   "version": "3.8.5"
  },
  "widgets": {
   "application/vnd.jupyter.widget-state+json": {
    "0ae7e638373549f9a047ce7c8bc8ab87": {
     "model_module": "@jupyter-widgets/controls",
     "model_module_version": "1.5.0",
     "model_name": "DescriptionStyleModel",
     "state": {
      "_model_module": "@jupyter-widgets/controls",
      "_model_module_version": "1.5.0",
      "_model_name": "DescriptionStyleModel",
      "_view_count": null,
      "_view_module": "@jupyter-widgets/base",
      "_view_module_version": "1.2.0",
      "_view_name": "StyleView",
      "description_width": ""
     }
    },
    "0c5e7c06d6dd414ab0ab84a577c98b0e": {
     "model_module": "@jupyter-widgets/controls",
     "model_module_version": "1.5.0",
     "model_name": "HTMLModel",
     "state": {
      "_dom_classes": [],
      "_model_module": "@jupyter-widgets/controls",
      "_model_module_version": "1.5.0",
      "_model_name": "HTMLModel",
      "_view_count": null,
      "_view_module": "@jupyter-widgets/controls",
      "_view_module_version": "1.5.0",
      "_view_name": "HTMLView",
      "description": "",
      "description_tooltip": null,
      "layout": "IPY_MODEL_f8ac738ff39d4f4ea79f05308972a768",
      "placeholder": "​",
      "style": "IPY_MODEL_0ae7e638373549f9a047ce7c8bc8ab87",
      "value": " 109M/109M [00:01&lt;00:00, 65.3MB/s]"
     }
    },
    "15370eedaea14994b389bbb8db8de057": {
     "model_module": "@jupyter-widgets/controls",
     "model_module_version": "1.5.0",
     "model_name": "HBoxModel",
     "state": {
      "_dom_classes": [],
      "_model_module": "@jupyter-widgets/controls",
      "_model_module_version": "1.5.0",
      "_model_name": "HBoxModel",
      "_view_count": null,
      "_view_module": "@jupyter-widgets/controls",
      "_view_module_version": "1.5.0",
      "_view_name": "HBoxView",
      "box_style": "",
      "children": [
       "IPY_MODEL_8b22834e82474c93a74e880f3de33128",
       "IPY_MODEL_9bc0d9da4e774451820081befdeac158",
       "IPY_MODEL_0c5e7c06d6dd414ab0ab84a577c98b0e"
      ],
      "layout": "IPY_MODEL_f97bc85d22f04f4f934adc128b50c80d"
     }
    },
    "75b2329c5f3940d89d59c44671e6666b": {
     "model_module": "@jupyter-widgets/base",
     "model_module_version": "1.2.0",
     "model_name": "LayoutModel",
     "state": {
      "_model_module": "@jupyter-widgets/base",
      "_model_module_version": "1.2.0",
      "_model_name": "LayoutModel",
      "_view_count": null,
      "_view_module": "@jupyter-widgets/base",
      "_view_module_version": "1.2.0",
      "_view_name": "LayoutView",
      "align_content": null,
      "align_items": null,
      "align_self": null,
      "border": null,
      "bottom": null,
      "display": null,
      "flex": null,
      "flex_flow": null,
      "grid_area": null,
      "grid_auto_columns": null,
      "grid_auto_flow": null,
      "grid_auto_rows": null,
      "grid_column": null,
      "grid_gap": null,
      "grid_row": null,
      "grid_template_areas": null,
      "grid_template_columns": null,
      "grid_template_rows": null,
      "height": null,
      "justify_content": null,
      "justify_items": null,
      "left": null,
      "margin": null,
      "max_height": null,
      "max_width": null,
      "min_height": null,
      "min_width": null,
      "object_fit": null,
      "object_position": null,
      "order": null,
      "overflow": null,
      "overflow_x": null,
      "overflow_y": null,
      "padding": null,
      "right": null,
      "top": null,
      "visibility": null,
      "width": null
     }
    },
    "8b22834e82474c93a74e880f3de33128": {
     "model_module": "@jupyter-widgets/controls",
     "model_module_version": "1.5.0",
     "model_name": "HTMLModel",
     "state": {
      "_dom_classes": [],
      "_model_module": "@jupyter-widgets/controls",
      "_model_module_version": "1.5.0",
      "_model_name": "HTMLModel",
      "_view_count": null,
      "_view_module": "@jupyter-widgets/controls",
      "_view_module_version": "1.5.0",
      "_view_name": "HTMLView",
      "description": "",
      "description_tooltip": null,
      "layout": "IPY_MODEL_bf8b36d1c8144e798b3cecbcf0d10276",
      "placeholder": "​",
      "style": "IPY_MODEL_b72e4e5f4a3d44f0810aeb32d2097204",
      "value": "100%"
     }
    },
    "9bc0d9da4e774451820081befdeac158": {
     "model_module": "@jupyter-widgets/controls",
     "model_module_version": "1.5.0",
     "model_name": "FloatProgressModel",
     "state": {
      "_dom_classes": [],
      "_model_module": "@jupyter-widgets/controls",
      "_model_module_version": "1.5.0",
      "_model_name": "FloatProgressModel",
      "_view_count": null,
      "_view_module": "@jupyter-widgets/controls",
      "_view_module_version": "1.5.0",
      "_view_name": "ProgressView",
      "bar_style": "success",
      "description": "",
      "description_tooltip": null,
      "layout": "IPY_MODEL_75b2329c5f3940d89d59c44671e6666b",
      "max": 114342173,
      "min": 0,
      "orientation": "horizontal",
      "style": "IPY_MODEL_faecd5b9916943abb0cdfc2b69dc1b65",
      "value": 114342173
     }
    },
    "b72e4e5f4a3d44f0810aeb32d2097204": {
     "model_module": "@jupyter-widgets/controls",
     "model_module_version": "1.5.0",
     "model_name": "DescriptionStyleModel",
     "state": {
      "_model_module": "@jupyter-widgets/controls",
      "_model_module_version": "1.5.0",
      "_model_name": "DescriptionStyleModel",
      "_view_count": null,
      "_view_module": "@jupyter-widgets/base",
      "_view_module_version": "1.2.0",
      "_view_name": "StyleView",
      "description_width": ""
     }
    },
    "bf8b36d1c8144e798b3cecbcf0d10276": {
     "model_module": "@jupyter-widgets/base",
     "model_module_version": "1.2.0",
     "model_name": "LayoutModel",
     "state": {
      "_model_module": "@jupyter-widgets/base",
      "_model_module_version": "1.2.0",
      "_model_name": "LayoutModel",
      "_view_count": null,
      "_view_module": "@jupyter-widgets/base",
      "_view_module_version": "1.2.0",
      "_view_name": "LayoutView",
      "align_content": null,
      "align_items": null,
      "align_self": null,
      "border": null,
      "bottom": null,
      "display": null,
      "flex": null,
      "flex_flow": null,
      "grid_area": null,
      "grid_auto_columns": null,
      "grid_auto_flow": null,
      "grid_auto_rows": null,
      "grid_column": null,
      "grid_gap": null,
      "grid_row": null,
      "grid_template_areas": null,
      "grid_template_columns": null,
      "grid_template_rows": null,
      "height": null,
      "justify_content": null,
      "justify_items": null,
      "left": null,
      "margin": null,
      "max_height": null,
      "max_width": null,
      "min_height": null,
      "min_width": null,
      "object_fit": null,
      "object_position": null,
      "order": null,
      "overflow": null,
      "overflow_x": null,
      "overflow_y": null,
      "padding": null,
      "right": null,
      "top": null,
      "visibility": null,
      "width": null
     }
    },
    "f8ac738ff39d4f4ea79f05308972a768": {
     "model_module": "@jupyter-widgets/base",
     "model_module_version": "1.2.0",
     "model_name": "LayoutModel",
     "state": {
      "_model_module": "@jupyter-widgets/base",
      "_model_module_version": "1.2.0",
      "_model_name": "LayoutModel",
      "_view_count": null,
      "_view_module": "@jupyter-widgets/base",
      "_view_module_version": "1.2.0",
      "_view_name": "LayoutView",
      "align_content": null,
      "align_items": null,
      "align_self": null,
      "border": null,
      "bottom": null,
      "display": null,
      "flex": null,
      "flex_flow": null,
      "grid_area": null,
      "grid_auto_columns": null,
      "grid_auto_flow": null,
      "grid_auto_rows": null,
      "grid_column": null,
      "grid_gap": null,
      "grid_row": null,
      "grid_template_areas": null,
      "grid_template_columns": null,
      "grid_template_rows": null,
      "height": null,
      "justify_content": null,
      "justify_items": null,
      "left": null,
      "margin": null,
      "max_height": null,
      "max_width": null,
      "min_height": null,
      "min_width": null,
      "object_fit": null,
      "object_position": null,
      "order": null,
      "overflow": null,
      "overflow_x": null,
      "overflow_y": null,
      "padding": null,
      "right": null,
      "top": null,
      "visibility": null,
      "width": null
     }
    },
    "f97bc85d22f04f4f934adc128b50c80d": {
     "model_module": "@jupyter-widgets/base",
     "model_module_version": "1.2.0",
     "model_name": "LayoutModel",
     "state": {
      "_model_module": "@jupyter-widgets/base",
      "_model_module_version": "1.2.0",
      "_model_name": "LayoutModel",
      "_view_count": null,
      "_view_module": "@jupyter-widgets/base",
      "_view_module_version": "1.2.0",
      "_view_name": "LayoutView",
      "align_content": null,
      "align_items": null,
      "align_self": null,
      "border": null,
      "bottom": null,
      "display": null,
      "flex": null,
      "flex_flow": null,
      "grid_area": null,
      "grid_auto_columns": null,
      "grid_auto_flow": null,
      "grid_auto_rows": null,
      "grid_column": null,
      "grid_gap": null,
      "grid_row": null,
      "grid_template_areas": null,
      "grid_template_columns": null,
      "grid_template_rows": null,
      "height": null,
      "justify_content": null,
      "justify_items": null,
      "left": null,
      "margin": null,
      "max_height": null,
      "max_width": null,
      "min_height": null,
      "min_width": null,
      "object_fit": null,
      "object_position": null,
      "order": null,
      "overflow": null,
      "overflow_x": null,
      "overflow_y": null,
      "padding": null,
      "right": null,
      "top": null,
      "visibility": null,
      "width": null
     }
    },
    "faecd5b9916943abb0cdfc2b69dc1b65": {
     "model_module": "@jupyter-widgets/controls",
     "model_module_version": "1.5.0",
     "model_name": "ProgressStyleModel",
     "state": {
      "_model_module": "@jupyter-widgets/controls",
      "_model_module_version": "1.5.0",
      "_model_name": "ProgressStyleModel",
      "_view_count": null,
      "_view_module": "@jupyter-widgets/base",
      "_view_module_version": "1.2.0",
      "_view_name": "StyleView",
      "bar_color": null,
      "description_width": ""
     }
    }
   }
  }
 },
 "nbformat": 4,
 "nbformat_minor": 4
}
